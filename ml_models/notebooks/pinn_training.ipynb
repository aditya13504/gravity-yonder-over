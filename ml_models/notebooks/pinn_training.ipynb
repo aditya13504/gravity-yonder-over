{
 "cells": [
  {
   "cell_type": "markdown",
   "id": "cec9a603",
   "metadata": {},
   "source": [
    "# PINN Training Notebook\n",
    "\n",
    "This notebook demonstrates training Physics-Informed Neural Networks for gravity simulations."
   ]
  },
  {
   "cell_type": "code",
   "execution_count": null,
   "id": "ba327d18",
   "metadata": {},
   "outputs": [],
   "source": [
    "import torch\n",
    "import torch.nn as nn\n",
    "import numpy as np\n",
    "import matplotlib.pyplot as plt\n",
    "from ml.models.pinn_gravity import PINNGravity"
   ]
  },
  {
   "cell_type": "markdown",
   "id": "89e8c746",
   "metadata": {},
   "source": [
    "## Data Preparation"
   ]
  },
  {
   "cell_type": "code",
   "execution_count": null,
   "id": "bb63ece8",
   "metadata": {},
   "outputs": [],
   "source": [
    "# Generate training data\n",
    "def generate_gravity_data(n_samples=1000):\n",
    "    # Generate random initial conditions\n",
    "    positions = np.random.uniform(-10, 10, (n_samples, 3))\n",
    "    velocities = np.random.uniform(-2, 2, (n_samples, 3))\n",
    "    masses = np.random.uniform(1, 100, (n_samples, 1))\n",
    "    \n",
    "    return positions, velocities, masses\n",
    "\n",
    "train_pos, train_vel, train_mass = generate_gravity_data()\n",
    "print(f\"Training data shape: {train_pos.shape}\")"
   ]
  },
  {
   "cell_type": "markdown",
   "id": "2c184427",
   "metadata": {},
   "source": [
    "## Model Training"
   ]
  },
  {
   "cell_type": "code",
   "execution_count": null,
   "id": "9016aab3",
   "metadata": {},
   "outputs": [],
   "source": [
    "# Initialize model\n",
    "model = PINNGravity(input_size=7, hidden_size=128, output_size=3)\n",
    "optimizer = torch.optim.Adam(model.parameters(), lr=0.001)\n",
    "\n",
    "# Training loop\n",
    "losses = []\n",
    "for epoch in range(1000):\n",
    "    # Training step\n",
    "    loss = model.train_step(train_pos, train_vel, train_mass)\n",
    "    losses.append(loss)\n",
    "    \n",
    "    if epoch % 100 == 0:\n",
    "        print(f\"Epoch {epoch}, Loss: {loss:.6f}\")\n",
    "\n",
    "# Plot training loss\n",
    "plt.figure(figsize=(10, 6))\n",
    "plt.plot(losses)\n",
    "plt.title('Training Loss')\n",
    "plt.xlabel('Epoch')\n",
    "plt.ylabel('Loss')\n",
    "plt.show()"
   ]
  },
  {
   "cell_type": "markdown",
   "id": "1ca54f8e",
   "metadata": {},
   "source": [
    "## Model Evaluation"
   ]
  },
  {
   "cell_type": "code",
   "execution_count": null,
   "id": "4e211eba",
   "metadata": {},
   "outputs": [],
   "source": [
    "# Test the model\n",
    "test_pos, test_vel, test_mass = generate_gravity_data(100)\n",
    "predictions = model.predict(test_pos, test_vel, test_mass)\n",
    "\n",
    "print(f\"Test predictions shape: {predictions.shape}\")\n",
    "print(f\"Sample prediction: {predictions[0]}\")"
   ]
  },
  {
   "cell_type": "markdown",
   "id": "a55f2305",
   "metadata": {},
   "source": [
    "## Save Model"
   ]
  },
  {
   "cell_type": "code",
   "execution_count": null,
   "id": "17c4ddd4",
   "metadata": {},
   "outputs": [],
   "source": [
    "# Save the trained model\n",
    "torch.save(model.state_dict(), '../trained_models/pinn_gravity_v1.pth')\n",
    "print(\"Model saved successfully!\")"
   ]
  }
 ],
 "metadata": {
  "language_info": {
   "name": "python"
  }
 },
 "nbformat": 4,
 "nbformat_minor": 5
}
