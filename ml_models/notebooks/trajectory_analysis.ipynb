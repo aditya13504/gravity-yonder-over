{
 "cells": [
  {
   "cell_type": "markdown",
   "id": "fe926170",
   "metadata": {},
   "source": [
    "# Trajectory Prediction Analysis\n",
    "\n",
    "This notebook analyzes trajectory prediction model performance and visualizes results."
   ]
  },
  {
   "cell_type": "code",
   "execution_count": null,
   "id": "20391f50",
   "metadata": {},
   "outputs": [],
   "source": [
    "import numpy as np\n",
    "import matplotlib.pyplot as plt\n",
    "import torch\n",
    "from ml.models.trajectory_predictor import TrajectoryPredictor\n",
    "from mpl_toolkits.mplot3d import Axes3D"
   ]
  },
  {
   "cell_type": "markdown",
   "id": "0a7a1160",
   "metadata": {},
   "source": [
    "## Load Trained Model"
   ]
  },
  {
   "cell_type": "code",
   "execution_count": null,
   "id": "57119b0f",
   "metadata": {},
   "outputs": [],
   "source": [
    "# Load the trajectory prediction model\n",
    "model = TrajectoryPredictor(input_size=6, hidden_size=256, sequence_length=100)\n",
    "model.load_state_dict(torch.load('../trained_models/trajectory_predictor_v1.pth'))\n",
    "model.eval()\n",
    "print(\"Model loaded successfully!\")"
   ]
  },
  {
   "cell_type": "markdown",
   "id": "093700c3",
   "metadata": {},
   "source": [
    "## Generate Test Trajectories"
   ]
  },
  {
   "cell_type": "code",
   "execution_count": null,
   "id": "9bdb155c",
   "metadata": {},
   "outputs": [],
   "source": [
    "# Generate a test orbital trajectory\n",
    "def generate_orbital_trajectory(r0=10, v0=1.5, steps=200):\n",
    "    \"\"\"Generate a simple orbital trajectory for testing\"\"\"\n",
    "    dt = 0.1\n",
    "    G = 6.674e-11\n",
    "    M = 5.97e24  # Earth mass\n",
    "    \n",
    "    positions = np.zeros((steps, 3))\n",
    "    velocities = np.zeros((steps, 3))\n",
    "    \n",
    "    # Initial conditions\n",
    "    positions[0] = [r0, 0, 0]\n",
    "    velocities[0] = [0, v0, 0]\n",
    "    \n",
    "    for i in range(1, steps):\n",
    "        r = np.linalg.norm(positions[i-1])\n",
    "        a = -G * M / r**3 * positions[i-1]\n",
    "        \n",
    "        velocities[i] = velocities[i-1] + a * dt\n",
    "        positions[i] = positions[i-1] + velocities[i] * dt\n",
    "    \n",
    "    return positions, velocities\n",
    "\n",
    "true_pos, true_vel = generate_orbital_trajectory()\n",
    "print(f\"Generated trajectory with {len(true_pos)} points\")"
   ]
  },
  {
   "cell_type": "markdown",
   "id": "c8759282",
   "metadata": {},
   "source": [
    "## Model Prediction"
   ]
  },
  {
   "cell_type": "code",
   "execution_count": null,
   "id": "68ad9740",
   "metadata": {},
   "outputs": [],
   "source": [
    "# Use first 10 points to predict the rest\n",
    "initial_sequence = 10\n",
    "initial_conditions = np.concatenate([true_pos[:initial_sequence], true_vel[:initial_sequence]], axis=1)\n",
    "\n",
    "# Predict trajectory\n",
    "predicted_trajectory = model.predict_trajectory(\n",
    "    initial_conditions, \n",
    "    prediction_steps=len(true_pos) - initial_sequence\n",
    ")\n",
    "\n",
    "print(f\"Predicted trajectory shape: {predicted_trajectory.shape}\")"
   ]
  },
  {
   "cell_type": "markdown",
   "id": "eb94336f",
   "metadata": {},
   "source": [
    "## Visualization"
   ]
  },
  {
   "cell_type": "code",
   "execution_count": null,
   "id": "6c1453c1",
   "metadata": {},
   "outputs": [],
   "source": [
    "# 3D trajectory plot\n",
    "fig = plt.figure(figsize=(15, 5))\n",
    "\n",
    "# 3D trajectory comparison\n",
    "ax1 = fig.add_subplot(131, projection='3d')\n",
    "ax1.plot(true_pos[:, 0], true_pos[:, 1], true_pos[:, 2], 'b-', label='True', linewidth=2)\n",
    "ax1.plot(predicted_trajectory[:, 0], predicted_trajectory[:, 1], predicted_trajectory[:, 2], \n",
    "         'r--', label='Predicted', linewidth=2)\n",
    "ax1.set_xlabel('X')\n",
    "ax1.set_ylabel('Y')\n",
    "ax1.set_zlabel('Z')\n",
    "ax1.legend()\n",
    "ax1.set_title('3D Trajectory Comparison')\n",
    "\n",
    "# X-Y projection\n",
    "ax2 = fig.add_subplot(132)\n",
    "ax2.plot(true_pos[:, 0], true_pos[:, 1], 'b-', label='True', linewidth=2)\n",
    "ax2.plot(predicted_trajectory[:, 0], predicted_trajectory[:, 1], 'r--', label='Predicted', linewidth=2)\n",
    "ax2.set_xlabel('X')\n",
    "ax2.set_ylabel('Y')\n",
    "ax2.legend()\n",
    "ax2.set_title('X-Y Projection')\n",
    "ax2.grid(True)\n",
    "\n",
    "# Error over time\n",
    "ax3 = fig.add_subplot(133)\n",
    "errors = np.linalg.norm(true_pos[initial_sequence:] - predicted_trajectory, axis=1)\n",
    "ax3.plot(errors)\n",
    "ax3.set_xlabel('Time Step')\n",
    "ax3.set_ylabel('Position Error')\n",
    "ax3.set_title('Prediction Error Over Time')\n",
    "ax3.grid(True)\n",
    "\n",
    "plt.tight_layout()\n",
    "plt.show()\n",
    "\n",
    "print(f\"Mean prediction error: {np.mean(errors):.4f}\")\n",
    "print(f\"Max prediction error: {np.max(errors):.4f}\")"
   ]
  }
 ],
 "metadata": {
  "language_info": {
   "name": "python"
  }
 },
 "nbformat": 4,
 "nbformat_minor": 5
}
